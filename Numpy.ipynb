{
  "nbformat": 4,
  "nbformat_minor": 0,
  "metadata": {
    "colab": {
      "provenance": [],
      "authorship_tag": "ABX9TyPy8IOqaLjlNi3ZylVHRfMY",
      "include_colab_link": true
    },
    "kernelspec": {
      "name": "python3",
      "display_name": "Python 3"
    },
    "language_info": {
      "name": "python"
    }
  },
  "cells": [
    {
      "cell_type": "markdown",
      "metadata": {
        "id": "view-in-github",
        "colab_type": "text"
      },
      "source": [
        "<a href=\"https://colab.research.google.com/github/tajuar-akash-hub/Machine-learning-algorithms/blob/main/Numpy.ipynb\" target=\"_parent\"><img src=\"https://colab.research.google.com/assets/colab-badge.svg\" alt=\"Open In Colab\"/></a>"
      ]
    },
    {
      "cell_type": "code",
      "source": [
        "import numpy as np"
      ],
      "metadata": {
        "id": "qyIwKoiXRKJF"
      },
      "execution_count": 1,
      "outputs": []
    },
    {
      "cell_type": "markdown",
      "source": [
        "# why numpy?\n",
        "1 ) numpy is fast than list\n",
        "2) Element stored in conguous memory location\n",
        "3) its a MATLAB replacement\n",
        "4) can store images!"
      ],
      "metadata": {
        "id": "Ur6VU9b7rS93"
      }
    },
    {
      "cell_type": "markdown",
      "source": [
        "# Shallow Copy and Deep copy In Pthoin"
      ],
      "metadata": {
        "id": "qMiq-C6EKyQy"
      }
    },
    {
      "cell_type": "code",
      "source": [
        "a = [1,2,3,4]\n",
        "\n",
        "b = a"
      ],
      "metadata": {
        "id": "HF_H-LA8K1VT"
      },
      "execution_count": 47,
      "outputs": []
    },
    {
      "cell_type": "code",
      "source": [
        "#change the value of b\n",
        "\n",
        "b[0] = 99"
      ],
      "metadata": {
        "id": "M5QQWWimLEK6"
      },
      "execution_count": 41,
      "outputs": []
    },
    {
      "cell_type": "code",
      "source": [
        "print(a)\n",
        "print(b)"
      ],
      "metadata": {
        "colab": {
          "base_uri": "https://localhost:8080/"
        },
        "id": "6rm_TvEiQUnq",
        "outputId": "1dffccdc-78ca-40a7-d14d-efd1e071e94e"
      },
      "execution_count": 45,
      "outputs": [
        {
          "output_type": "stream",
          "name": "stdout",
          "text": [
            "[99, 2, 3, 4]\n",
            "[99, 2, 3, 4]\n"
          ]
        }
      ]
    },
    {
      "cell_type": "markdown",
      "source": [
        "## Deep copy"
      ],
      "metadata": {
        "id": "wnyvptFGO9-7"
      }
    },
    {
      "cell_type": "code",
      "source": [
        "import copy\n",
        "\n",
        "a = [1,2,3,4]\n",
        "\n",
        "c = copy.deepcopy(a)   #a stays the same, but c changes\n",
        "\n",
        "#change something\n",
        "c[0] = \"changed\"\n",
        "\n",
        "print(c)\n",
        "print(a)\n"
      ],
      "metadata": {
        "colab": {
          "base_uri": "https://localhost:8080/"
        },
        "id": "Ul6dChQULJsJ",
        "outputId": "5ecf02ae-9e91-4193-822e-d7775932f19a"
      },
      "execution_count": 53,
      "outputs": [
        {
          "output_type": "stream",
          "name": "stdout",
          "text": [
            "['changed', 2, 3, 4]\n",
            "[1, 2, 3, 4]\n"
          ]
        }
      ]
    },
    {
      "cell_type": "code",
      "source": [
        "#change c\n",
        "c = 99"
      ],
      "metadata": {
        "id": "X14KOy8ZPE25"
      },
      "execution_count": 35,
      "outputs": []
    },
    {
      "cell_type": "code",
      "source": [
        "b"
      ],
      "metadata": {
        "colab": {
          "base_uri": "https://localhost:8080/"
        },
        "id": "Tm3vm0pzPHlI",
        "outputId": "59e911c9-5d3e-4c32-98ec-ed802b1ac51f"
      },
      "execution_count": 37,
      "outputs": [
        {
          "output_type": "execute_result",
          "data": {
            "text/plain": [
              "99"
            ]
          },
          "metadata": {},
          "execution_count": 37
        }
      ]
    },
    {
      "cell_type": "markdown",
      "source": [
        "# shallow copy\n"
      ],
      "metadata": {
        "id": "WsKJW2HURAlC"
      }
    },
    {
      "cell_type": "code",
      "source": [
        "a = [1,2,3,4]\n",
        "\n",
        "d = a.copy()\n",
        "\n",
        "#change it\n",
        "\n",
        "d[0] = \"changed\"\n",
        "\n",
        "print(d)\n",
        "print(a)"
      ],
      "metadata": {
        "colab": {
          "base_uri": "https://localhost:8080/"
        },
        "id": "6K5oeCwbRJ9w",
        "outputId": "d9220af7-126f-4028-e00d-9bcda00bd49a"
      },
      "execution_count": 55,
      "outputs": [
        {
          "output_type": "stream",
          "name": "stdout",
          "text": [
            "['changed', 2, 3, 4]\n",
            "[1, 2, 3, 4]\n"
          ]
        }
      ]
    },
    {
      "cell_type": "markdown",
      "source": [
        "Note : the real difference is noticeable when we you nested list"
      ],
      "metadata": {
        "id": "r1loDalGS9lB"
      }
    },
    {
      "cell_type": "code",
      "source": [
        "a = np.arange(11)\n",
        "a"
      ],
      "metadata": {
        "colab": {
          "base_uri": "https://localhost:8080/"
        },
        "id": "9OvM3ykoROKc",
        "outputId": "73c6c116-6d1d-4d99-9cc7-fdaf4c988ff6"
      },
      "execution_count": 4,
      "outputs": [
        {
          "output_type": "execute_result",
          "data": {
            "text/plain": [
              "array([ 0,  1,  2,  3,  4,  5,  6,  7,  8,  9, 10])"
            ]
          },
          "metadata": {},
          "execution_count": 4
        }
      ]
    },
    {
      "cell_type": "code",
      "source": [
        "b = a[:5]\n",
        "b"
      ],
      "metadata": {
        "colab": {
          "base_uri": "https://localhost:8080/"
        },
        "id": "C71LPpI7RWxA",
        "outputId": "2c6626aa-0925-4b4d-ed8d-b3b09f0e5fc1"
      },
      "execution_count": 5,
      "outputs": [
        {
          "output_type": "execute_result",
          "data": {
            "text/plain": [
              "array([0, 1, 2, 3, 4])"
            ]
          },
          "metadata": {},
          "execution_count": 5
        }
      ]
    },
    {
      "cell_type": "code",
      "source": [
        "b[0:5] = 99   #shallow copy\n"
      ],
      "metadata": {
        "id": "P2s0h_Y-Rwm_"
      },
      "execution_count": 7,
      "outputs": []
    },
    {
      "cell_type": "code",
      "source": [
        "b"
      ],
      "metadata": {
        "colab": {
          "base_uri": "https://localhost:8080/"
        },
        "id": "GkSAItjtR4kV",
        "outputId": "ac019897-f23b-4bee-869d-a72ea0f07f6d"
      },
      "execution_count": 10,
      "outputs": [
        {
          "output_type": "execute_result",
          "data": {
            "text/plain": [
              "array([99, 99, 99, 99, 99])"
            ]
          },
          "metadata": {},
          "execution_count": 10
        }
      ]
    },
    {
      "cell_type": "code",
      "source": [
        "c = np.arange(11)\n",
        "d = c[:5].copy()  #deep copy\n",
        "d[:5] = 99"
      ],
      "metadata": {
        "id": "dbLcnQpGSqcO"
      },
      "execution_count": 18,
      "outputs": []
    },
    {
      "cell_type": "code",
      "source": [],
      "metadata": {
        "colab": {
          "base_uri": "https://localhost:8080/"
        },
        "id": "wG4CXx6QS4mm",
        "outputId": "7b1d68df-c9a0-426e-9276-8fad426588a0"
      },
      "execution_count": 20,
      "outputs": [
        {
          "output_type": "execute_result",
          "data": {
            "text/plain": [
              "array([99, 99, 99, 99, 99])"
            ]
          },
          "metadata": {},
          "execution_count": 20
        }
      ]
    },
    {
      "cell_type": "markdown",
      "source": [
        "#Create an numpy array"
      ],
      "metadata": {
        "id": "tPidPxerqcmR"
      }
    },
    {
      "cell_type": "code",
      "source": [
        "import numpy as np"
      ],
      "metadata": {
        "id": "-9o85xD_qeSm"
      },
      "execution_count": 2,
      "outputs": []
    },
    {
      "cell_type": "code",
      "source": [
        "a = np.array(\n",
        "    [1,2,3,4,5]\n",
        ")"
      ],
      "metadata": {
        "id": "mXHz1tjqqfwm"
      },
      "execution_count": null,
      "outputs": []
    },
    {
      "cell_type": "code",
      "source": [
        "print(a)"
      ],
      "metadata": {
        "colab": {
          "base_uri": "https://localhost:8080/"
        },
        "id": "qHpJ-nCwqo-2",
        "outputId": "cd527170-b93c-409d-de3c-9124112165f0"
      },
      "execution_count": null,
      "outputs": [
        {
          "output_type": "stream",
          "name": "stdout",
          "text": [
            "1 2 3 4 5\n"
          ]
        }
      ]
    },
    {
      "cell_type": "markdown",
      "source": [
        "# 2D array"
      ],
      "metadata": {
        "id": "1otBNiTQrIrG"
      }
    },
    {
      "cell_type": "code",
      "source": [
        "b = np.array([ [1,2,3,4],[5,6,7,8] ] )\n",
        "b\n"
      ],
      "metadata": {
        "colab": {
          "base_uri": "https://localhost:8080/"
        },
        "id": "hkTHIYlNrJSZ",
        "outputId": "55d92557-080b-414a-a6d3-b02223ac70f2"
      },
      "execution_count": null,
      "outputs": [
        {
          "output_type": "execute_result",
          "data": {
            "text/plain": [
              "array([[1, 2, 3, 4],\n",
              "       [5, 6, 7, 8]])"
            ]
          },
          "metadata": {},
          "execution_count": 7
        }
      ]
    },
    {
      "cell_type": "markdown",
      "source": [
        "# 3D array"
      ],
      "metadata": {
        "id": "53b_Wyv0u_tl"
      }
    },
    {
      "cell_type": "code",
      "source": [
        "c = np.array(\n",
        "    [  [ [1,2,3,4,5] ]  ]\n",
        ")"
      ],
      "metadata": {
        "id": "P72G4opVvBG9"
      },
      "execution_count": null,
      "outputs": []
    },
    {
      "cell_type": "code",
      "source": [
        "print(c.shape)"
      ],
      "metadata": {
        "colab": {
          "base_uri": "https://localhost:8080/"
        },
        "id": "B2iJQPxYvW3q",
        "outputId": "40d86db6-704c-42b2-dae7-e01df1853bee"
      },
      "execution_count": null,
      "outputs": [
        {
          "output_type": "stream",
          "name": "stdout",
          "text": [
            "(1, 1, 5)\n"
          ]
        }
      ]
    },
    {
      "cell_type": "markdown",
      "source": [
        "# Get Dimension\n"
      ],
      "metadata": {
        "id": "iDZENThnt61-"
      }
    },
    {
      "cell_type": "code",
      "source": [
        "print(a.ndim)\n",
        "print(b.ndim)"
      ],
      "metadata": {
        "colab": {
          "base_uri": "https://localhost:8080/"
        },
        "id": "zzonxFKquB4e",
        "outputId": "2bb61469-c965-4ce2-b8f9-5089273afe7b"
      },
      "execution_count": null,
      "outputs": [
        {
          "output_type": "stream",
          "name": "stdout",
          "text": [
            "1\n",
            "2\n"
          ]
        }
      ]
    },
    {
      "cell_type": "markdown",
      "source": [
        "# Get Shape"
      ],
      "metadata": {
        "id": "taGDK8dQuLGe"
      }
    },
    {
      "cell_type": "code",
      "source": [
        "print(a.shape)\n",
        "print(b.shape)"
      ],
      "metadata": {
        "colab": {
          "base_uri": "https://localhost:8080/"
        },
        "id": "DthU7R2AuMhn",
        "outputId": "6a46816d-e1c0-453d-c67e-d526d3503d6f"
      },
      "execution_count": null,
      "outputs": [
        {
          "output_type": "stream",
          "name": "stdout",
          "text": [
            "(5,)\n",
            "(2, 4)\n"
          ]
        }
      ]
    },
    {
      "cell_type": "markdown",
      "source": [
        "# Get type"
      ],
      "metadata": {
        "id": "n14Nk6gYvy7u"
      }
    },
    {
      "cell_type": "code",
      "source": [
        "print(a.dtype)\n",
        "print(b.dtype)\n",
        "print(c.dtype)"
      ],
      "metadata": {
        "id": "rXYRBuw-v3hs",
        "outputId": "ff9bc7e9-8f5b-44b5-9051-bab39d9499f1",
        "colab": {
          "base_uri": "https://localhost:8080/"
        }
      },
      "execution_count": null,
      "outputs": [
        {
          "output_type": "stream",
          "name": "stdout",
          "text": [
            "int64\n",
            "int64\n",
            "int64\n"
          ]
        }
      ]
    },
    {
      "cell_type": "markdown",
      "source": [
        "# zero"
      ],
      "metadata": {
        "id": "c6SS6aZ0I-Np"
      }
    },
    {
      "cell_type": "code",
      "source": [
        "zero = np.zeros( (2,3) )\n",
        "zero"
      ],
      "metadata": {
        "colab": {
          "base_uri": "https://localhost:8080/"
        },
        "id": "3idjQJ2yJAFF",
        "outputId": "298f3497-920d-4cfd-87cf-1e5dc7e4d27a"
      },
      "execution_count": null,
      "outputs": [
        {
          "output_type": "execute_result",
          "data": {
            "text/plain": [
              "array([[0., 0., 0.],\n",
              "       [0., 0., 0.]])"
            ]
          },
          "metadata": {},
          "execution_count": 15
        }
      ]
    },
    {
      "cell_type": "markdown",
      "source": [
        "# Ones"
      ],
      "metadata": {
        "id": "L4B0Wb5PROji"
      }
    },
    {
      "cell_type": "code",
      "source": [
        "one = np.ones( (2,3)  )\n",
        "print(one)"
      ],
      "metadata": {
        "colab": {
          "base_uri": "https://localhost:8080/"
        },
        "id": "HWwpC9qVRPyY",
        "outputId": "5c6bb74e-5503-4801-d1a6-fa49dd4022b8"
      },
      "execution_count": null,
      "outputs": [
        {
          "output_type": "stream",
          "name": "stdout",
          "text": [
            "[[1. 1. 1.]\n",
            " [1. 1. 1.]]\n"
          ]
        }
      ]
    },
    {
      "cell_type": "markdown",
      "source": [
        "# Arrange"
      ],
      "metadata": {
        "id": "LQ5rXHXvRe2O"
      }
    },
    {
      "cell_type": "code",
      "source": [
        "arrange = np.arange( 10 )\n",
        "arrange"
      ],
      "metadata": {
        "colab": {
          "base_uri": "https://localhost:8080/"
        },
        "id": "Sx3_H4_xRgVm",
        "outputId": "69d9d2cc-df14-4968-eaf5-01b4c4e4dd17"
      },
      "execution_count": null,
      "outputs": [
        {
          "output_type": "execute_result",
          "data": {
            "text/plain": [
              "array([0, 1, 2, 3, 4, 5, 6, 7, 8, 9])"
            ]
          },
          "metadata": {},
          "execution_count": 26
        }
      ]
    },
    {
      "cell_type": "code",
      "source": [
        "np.arange(10,20,2) # Start , end, step"
      ],
      "metadata": {
        "colab": {
          "base_uri": "https://localhost:8080/"
        },
        "id": "VyCV_0LnRwSW",
        "outputId": "616c33cc-865e-4065-bf1e-96918d830d20"
      },
      "execution_count": null,
      "outputs": [
        {
          "output_type": "execute_result",
          "data": {
            "text/plain": [
              "array([10, 12, 14, 16, 18])"
            ]
          },
          "metadata": {},
          "execution_count": 28
        }
      ]
    },
    {
      "cell_type": "markdown",
      "source": [
        "# LinSpace"
      ],
      "metadata": {
        "id": "74Dk9vNDR96d"
      }
    },
    {
      "cell_type": "code",
      "source": [
        "np.linspace(0,10,num=5)  # range 0 to 10, total value 5, and their differnce is same"
      ],
      "metadata": {
        "colab": {
          "base_uri": "https://localhost:8080/"
        },
        "id": "PSzsWnPWR_Dn",
        "outputId": "ec6e57e3-180c-436c-b9e0-a80ee0ea8a80"
      },
      "execution_count": null,
      "outputs": [
        {
          "output_type": "execute_result",
          "data": {
            "text/plain": [
              "array([ 0. ,  2.5,  5. ,  7.5, 10. ])"
            ]
          },
          "metadata": {},
          "execution_count": 29
        }
      ]
    },
    {
      "cell_type": "markdown",
      "source": [
        "#random"
      ],
      "metadata": {
        "id": "3PbGmwjmJOjZ"
      }
    },
    {
      "cell_type": "code",
      "source": [
        "random = np.random.random( (2,3) )\n",
        "random"
      ],
      "metadata": {
        "colab": {
          "base_uri": "https://localhost:8080/"
        },
        "id": "v_XqbdppJQI5",
        "outputId": "8ff83041-a17d-48e8-dd32-901d4bed79dc"
      },
      "execution_count": null,
      "outputs": [
        {
          "output_type": "execute_result",
          "data": {
            "text/plain": [
              "array([[0.19146245, 0.20978234, 0.82656233],\n",
              "       [0.3894867 , 0.1464109 , 0.98479732]])"
            ]
          },
          "metadata": {},
          "execution_count": 17
        }
      ]
    },
    {
      "cell_type": "markdown",
      "source": [
        "# Random vs Rand"
      ],
      "metadata": {
        "id": "VCNrFe2qrMA7"
      }
    },
    {
      "cell_type": "code",
      "source": [
        "a = np.random.random( (2,3)  )  #random with shape change\n",
        "print(a)"
      ],
      "metadata": {
        "colab": {
          "base_uri": "https://localhost:8080/"
        },
        "id": "PTNkQL93rN24",
        "outputId": "7b028c10-8d30-4a3f-d9f9-8ed89b883a56"
      },
      "execution_count": null,
      "outputs": [
        {
          "output_type": "stream",
          "name": "stdout",
          "text": [
            "[[0.75879762 0.49230191 0.3575513 ]\n",
            " [0.3651551  0.04066659 0.86074186]]\n"
          ]
        }
      ]
    },
    {
      "cell_type": "markdown",
      "source": [
        "# RandInt"
      ],
      "metadata": {
        "id": "yfp9JHAxExXU"
      }
    },
    {
      "cell_type": "code",
      "source": [
        "np.random.randint(low = 0, high= 10 , size =(10,10) )"
      ],
      "metadata": {
        "colab": {
          "base_uri": "https://localhost:8080/"
        },
        "id": "uIcaDuF-Ey9r",
        "outputId": "b35eb2a6-5a87-4376-e237-c08b4f12690d"
      },
      "execution_count": 10,
      "outputs": [
        {
          "output_type": "execute_result",
          "data": {
            "text/plain": [
              "array([[9, 3, 7, 2, 9, 4, 7, 4, 6, 4],\n",
              "       [2, 2, 0, 0, 6, 3, 6, 0, 0, 8],\n",
              "       [9, 2, 7, 8, 9, 7, 1, 4, 3, 0],\n",
              "       [9, 3, 8, 9, 8, 4, 1, 5, 1, 8],\n",
              "       [4, 6, 9, 7, 6, 0, 4, 7, 9, 2],\n",
              "       [7, 9, 3, 5, 5, 8, 2, 4, 3, 8],\n",
              "       [9, 0, 8, 4, 0, 6, 3, 4, 4, 7],\n",
              "       [8, 6, 5, 6, 3, 6, 3, 8, 6, 5],\n",
              "       [9, 7, 7, 8, 6, 8, 7, 4, 4, 6],\n",
              "       [2, 7, 0, 4, 4, 2, 4, 8, 8, 9]])"
            ]
          },
          "metadata": {},
          "execution_count": 10
        }
      ]
    },
    {
      "cell_type": "code",
      "source": [
        "b = np.random.rand( 2,3  )  # for rand, don't have to provide tuple as a parameter\n",
        "print(a)"
      ],
      "metadata": {
        "colab": {
          "base_uri": "https://localhost:8080/"
        },
        "id": "ZVVGgCkTrhS-",
        "outputId": "c7ebf389-fedc-4909-a860-c85604cbd67b"
      },
      "execution_count": null,
      "outputs": [
        {
          "output_type": "stream",
          "name": "stdout",
          "text": [
            "[[0.75879762 0.49230191 0.3575513 ]\n",
            " [0.3651551  0.04066659 0.86074186]]\n"
          ]
        }
      ]
    },
    {
      "cell_type": "markdown",
      "source": [
        "#  Numpy Value Access"
      ],
      "metadata": {
        "id": "TAnicmrFPu8q"
      }
    },
    {
      "cell_type": "code",
      "source": [
        "ar = np.array( [1,2,3,34,5] )\n",
        "print(ar)\n",
        "\n",
        "#access certain elements\n",
        "print( ar[3] )"
      ],
      "metadata": {
        "colab": {
          "base_uri": "https://localhost:8080/"
        },
        "id": "-OI3jR-DPxwJ",
        "outputId": "347edc65-94e8-4e1f-9e18-ebd9a205f989"
      },
      "execution_count": null,
      "outputs": [
        {
          "output_type": "stream",
          "name": "stdout",
          "text": [
            "[ 1  2  3 34  5]\n",
            "34\n"
          ]
        }
      ]
    },
    {
      "cell_type": "code",
      "source": [
        "ar1 = np.array( [ [1,2,3,34,5], [5,6,7,8,9] ] )\n",
        "\n",
        "print(ar[1][4])\n",
        "\n"
      ],
      "metadata": {
        "colab": {
          "base_uri": "https://localhost:8080/"
        },
        "id": "V9-acKaQQHpN",
        "outputId": "3c361a5d-edce-4d8a-ef78-82ffa82ee665"
      },
      "execution_count": null,
      "outputs": [
        {
          "output_type": "stream",
          "name": "stdout",
          "text": [
            "9\n"
          ]
        }
      ]
    },
    {
      "cell_type": "markdown",
      "source": [
        "# Slicing"
      ],
      "metadata": {
        "id": "3oVXbCxPQsN7"
      }
    },
    {
      "cell_type": "code",
      "source": [
        "print(ar[:3])"
      ],
      "metadata": {
        "colab": {
          "base_uri": "https://localhost:8080/"
        },
        "id": "4_P4nKiNQtv4",
        "outputId": "448996ff-a241-424b-81ec-65ca7e6a30f3"
      },
      "execution_count": null,
      "outputs": [
        {
          "output_type": "stream",
          "name": "stdout",
          "text": [
            "[1 2 3]\n"
          ]
        }
      ]
    },
    {
      "cell_type": "markdown",
      "source": [
        "# Sort"
      ],
      "metadata": {
        "id": "Xx1RjLIGStS6"
      }
    },
    {
      "cell_type": "code",
      "source": [
        "a = np.array([10,11,12,13,14,15])\n",
        "np.sort(a)"
      ],
      "metadata": {
        "colab": {
          "base_uri": "https://localhost:8080/"
        },
        "id": "r3xas5eQSuKf",
        "outputId": "9b6963fe-1a8e-46f7-ba45-a2cc683a39d2"
      },
      "execution_count": null,
      "outputs": [
        {
          "output_type": "execute_result",
          "data": {
            "text/plain": [
              "array([10, 11, 12, 13, 14, 15])"
            ]
          },
          "metadata": {},
          "execution_count": 30
        }
      ]
    },
    {
      "cell_type": "markdown",
      "source": [
        "# Reshpae"
      ],
      "metadata": {
        "id": "tDMcrKSlUrMj"
      }
    },
    {
      "cell_type": "markdown",
      "source": [
        "\n"
      ],
      "metadata": {
        "id": "ZN_xRU4XhUGH"
      }
    },
    {
      "cell_type": "code",
      "source": [
        "a = np.array([10,11,12,13,14,15])\n",
        "a.reshape(2,3)"
      ],
      "metadata": {
        "colab": {
          "base_uri": "https://localhost:8080/"
        },
        "id": "NSB5ng8hUsb4",
        "outputId": "f74aead8-fbab-44d9-9dd0-31c6308b6c7d"
      },
      "execution_count": null,
      "outputs": [
        {
          "output_type": "execute_result",
          "data": {
            "text/plain": [
              "array([[10, 11, 12],\n",
              "       [13, 14, 15]])"
            ]
          },
          "metadata": {},
          "execution_count": 16
        }
      ]
    },
    {
      "cell_type": "code",
      "source": [
        "# Single line\n",
        "print(np.array( [10,20,30,40] ).reshape(2,2))"
      ],
      "metadata": {
        "colab": {
          "base_uri": "https://localhost:8080/"
        },
        "id": "5wsV-_Z3gy4w",
        "outputId": "045e8e36-84c5-498b-95b2-9d4e6e4f0a52"
      },
      "execution_count": null,
      "outputs": [
        {
          "output_type": "stream",
          "name": "stdout",
          "text": [
            "[[10 20]\n",
            " [30 40]]\n"
          ]
        }
      ]
    },
    {
      "cell_type": "code",
      "source": [
        "# Undo dimension"
      ],
      "metadata": {
        "id": "w7q4iSIRlwCC"
      },
      "execution_count": null,
      "outputs": []
    },
    {
      "cell_type": "code",
      "source": [
        "a.ravel()"
      ],
      "metadata": {
        "colab": {
          "base_uri": "https://localhost:8080/"
        },
        "id": "p_VzM29Ylx7Z",
        "outputId": "fab34efd-4aeb-4d64-a92f-0a715c48307e"
      },
      "execution_count": null,
      "outputs": [
        {
          "output_type": "execute_result",
          "data": {
            "text/plain": [
              "array([10, 11, 12, 13, 14, 15])"
            ]
          },
          "metadata": {},
          "execution_count": 18
        }
      ]
    },
    {
      "cell_type": "markdown",
      "source": [
        "# Difference between Faltten and Ravel"
      ],
      "metadata": {
        "id": "EWJ-uFeQGory"
      }
    },
    {
      "cell_type": "code",
      "source": [
        "temp = np.random.random(10).reshape(5,2)\n",
        "temp"
      ],
      "metadata": {
        "colab": {
          "base_uri": "https://localhost:8080/"
        },
        "id": "QWwDCB4vGrl6",
        "outputId": "2f7a9851-8789-470c-b6a4-33efea8c93d1"
      },
      "execution_count": 15,
      "outputs": [
        {
          "output_type": "execute_result",
          "data": {
            "text/plain": [
              "array([[0.67019249, 0.78949832],\n",
              "       [0.04987518, 0.98097219],\n",
              "       [0.21278648, 0.04285792],\n",
              "       [0.21836328, 0.72940914],\n",
              "       [0.22017948, 0.99787959]])"
            ]
          },
          "metadata": {},
          "execution_count": 15
        }
      ]
    },
    {
      "cell_type": "markdown",
      "source": [
        "# Append"
      ],
      "metadata": {
        "id": "g-PD9vONIcaL"
      }
    },
    {
      "cell_type": "code",
      "source": [
        "a = np.arange(20).reshape(10,2)\n",
        "a"
      ],
      "metadata": {
        "colab": {
          "base_uri": "https://localhost:8080/"
        },
        "id": "Ntp9x25XIdi6",
        "outputId": "c1728ca2-af4d-44d9-89fb-f55254c60e89"
      },
      "execution_count": 22,
      "outputs": [
        {
          "output_type": "execute_result",
          "data": {
            "text/plain": [
              "array([[ 0,  1],\n",
              "       [ 2,  3],\n",
              "       [ 4,  5],\n",
              "       [ 6,  7],\n",
              "       [ 8,  9],\n",
              "       [10, 11],\n",
              "       [12, 13],\n",
              "       [14, 15],\n",
              "       [16, 17],\n",
              "       [18, 19]])"
            ]
          },
          "metadata": {},
          "execution_count": 22
        }
      ]
    },
    {
      "cell_type": "code",
      "source": [
        "another_array = [100,200]\n",
        "np.append(a,another_array)  #problem is it will make it one dimensioanl again"
      ],
      "metadata": {
        "colab": {
          "base_uri": "https://localhost:8080/"
        },
        "id": "ePP_LThUIqT6",
        "outputId": "68c31e11-8f94-48a8-ab1b-e2ce02114ed3"
      },
      "execution_count": 23,
      "outputs": [
        {
          "output_type": "execute_result",
          "data": {
            "text/plain": [
              "array([  0,   1,   2,   3,   4,   5,   6,   7,   8,   9,  10,  11,  12,\n",
              "        13,  14,  15,  16,  17,  18,  19, 100, 200])"
            ]
          },
          "metadata": {},
          "execution_count": 23
        }
      ]
    },
    {
      "cell_type": "code",
      "source": [
        "temp.flatten()  # extra theory to understand, shallow copy, deep copy , flatten is deep copy"
      ],
      "metadata": {
        "colab": {
          "base_uri": "https://localhost:8080/"
        },
        "id": "DXvoNdAQHW58",
        "outputId": "19ba9f91-e00b-4948-f550-b7d02e8986e0"
      },
      "execution_count": 16,
      "outputs": [
        {
          "output_type": "execute_result",
          "data": {
            "text/plain": [
              "array([0.67019249, 0.78949832, 0.04987518, 0.98097219, 0.21278648,\n",
              "       0.04285792, 0.21836328, 0.72940914, 0.22017948, 0.99787959])"
            ]
          },
          "metadata": {},
          "execution_count": 16
        }
      ]
    },
    {
      "cell_type": "markdown",
      "source": [
        "# Dot product"
      ],
      "metadata": {
        "id": "eLWWkDW8hVBd"
      }
    },
    {
      "cell_type": "code",
      "source": [
        "a = np.array(\n",
        "    [\n",
        "        [1,2],\n",
        "        [3,4]\n",
        "    ]\n",
        ")\n",
        "\n",
        "b = np.array(\n",
        "    [\n",
        "        [0,1],\n",
        "        [1,0]\n",
        "    ]\n",
        ")\n",
        "\n",
        "dot = np.dot(a,b)\n",
        "print(dot)"
      ],
      "metadata": {
        "colab": {
          "base_uri": "https://localhost:8080/"
        },
        "id": "kWOLdIgxjdT-",
        "outputId": "9155b5c8-72c7-40d9-c17e-e7475a22eae8"
      },
      "execution_count": null,
      "outputs": [
        {
          "output_type": "stream",
          "name": "stdout",
          "text": [
            "[[2 1]\n",
            " [4 3]]\n"
          ]
        }
      ]
    },
    {
      "cell_type": "markdown",
      "source": [
        "# Transpose matrix (row to column, column to row)"
      ],
      "metadata": {
        "id": "iELKRItvpsWq"
      }
    },
    {
      "cell_type": "code",
      "source": [
        "trans = np.arange(10).reshape(5,2)\n",
        "print(trans)"
      ],
      "metadata": {
        "colab": {
          "base_uri": "https://localhost:8080/"
        },
        "id": "KIZJJtwUpuRD",
        "outputId": "1fef2328-62bc-46c1-de4b-8b14e43b6a46"
      },
      "execution_count": null,
      "outputs": [
        {
          "output_type": "stream",
          "name": "stdout",
          "text": [
            "[[0 1]\n",
            " [2 3]\n",
            " [4 5]\n",
            " [6 7]\n",
            " [8 9]]\n"
          ]
        }
      ]
    },
    {
      "cell_type": "code",
      "source": [
        "trans.transpose()"
      ],
      "metadata": {
        "colab": {
          "base_uri": "https://localhost:8080/"
        },
        "id": "rfwiObG_qIB2",
        "outputId": "1e37b260-eed5-44cc-8d3d-8182e3dcb37b"
      },
      "execution_count": null,
      "outputs": [
        {
          "output_type": "execute_result",
          "data": {
            "text/plain": [
              "array([[0, 2, 4, 6, 8],\n",
              "       [1, 3, 5, 7, 9]])"
            ]
          },
          "metadata": {},
          "execution_count": 42
        }
      ]
    },
    {
      "cell_type": "markdown",
      "source": [
        "# Max ,Min"
      ],
      "metadata": {
        "id": "Gb7G43s3lZB4"
      }
    },
    {
      "cell_type": "code",
      "source": [
        "a = np.array([1,2,3,4,5,6])\n",
        "\n",
        "print(a.max())\n",
        "print(a.min())\n",
        "print(a.sum())"
      ],
      "metadata": {
        "colab": {
          "base_uri": "https://localhost:8080/"
        },
        "id": "lEO8WrQylasp",
        "outputId": "a657e48a-2e8f-4529-895a-4276d16defcc"
      },
      "execution_count": null,
      "outputs": [
        {
          "output_type": "stream",
          "name": "stdout",
          "text": [
            "6\n",
            "1\n",
            "21\n"
          ]
        }
      ]
    },
    {
      "cell_type": "markdown",
      "source": [
        "# Axis wise sum"
      ],
      "metadata": {
        "id": "04Sq9YKmmBs_"
      }
    },
    {
      "cell_type": "code",
      "source": [
        "c = np.arange(12).reshape(3,4)\n",
        "\n",
        "print(c)\n",
        "\n",
        "print(\"result of axis = 0 \")\n",
        "print(c.sum(axis=0))  # summing all columns\n",
        "\n",
        "\n",
        "print(\"result of axis = 1 \")\n",
        "print(c.sum(axis=1))  # summing all columns"
      ],
      "metadata": {
        "colab": {
          "base_uri": "https://localhost:8080/"
        },
        "id": "a7ul_yWgmDFZ",
        "outputId": "9b6adb76-2cf1-4e34-810e-c251b93ef316"
      },
      "execution_count": null,
      "outputs": [
        {
          "output_type": "stream",
          "name": "stdout",
          "text": [
            "[[ 0  1  2  3]\n",
            " [ 4  5  6  7]\n",
            " [ 8  9 10 11]]\n",
            "result of axis = 0 \n",
            "[12 15 18 21]\n",
            "result of axis = 1 \n",
            "[ 6 22 38]\n"
          ]
        }
      ]
    },
    {
      "cell_type": "code",
      "source": [
        "np.random.random(10).reshape(2,5)"
      ],
      "metadata": {
        "colab": {
          "base_uri": "https://localhost:8080/"
        },
        "id": "QwCGITOJoC1d",
        "outputId": "381f72e8-8b27-4107-dfb7-020c1c31ff5f"
      },
      "execution_count": null,
      "outputs": [
        {
          "output_type": "execute_result",
          "data": {
            "text/plain": [
              "array([[0.04412408, 0.85869139, 0.83316977, 0.01428163, 0.42071867],\n",
              "       [0.9649462 , 0.09764058, 0.00156086, 0.09082053, 0.57544386]])"
            ]
          },
          "metadata": {},
          "execution_count": 31
        }
      ]
    },
    {
      "cell_type": "markdown",
      "source": [
        "# Arg Max"
      ],
      "metadata": {
        "id": "gaL-iTxIo2QV"
      }
    },
    {
      "cell_type": "code",
      "source": [
        "random = np.random.random(10)\n",
        "random"
      ],
      "metadata": {
        "colab": {
          "base_uri": "https://localhost:8080/"
        },
        "id": "O3OPfoWxo31C",
        "outputId": "ec3cc0ea-78b6-4f2d-f43c-d8dec3c359f2"
      },
      "execution_count": null,
      "outputs": [
        {
          "output_type": "execute_result",
          "data": {
            "text/plain": [
              "array([0.69363035, 0.2464375 , 0.80472158, 0.13715147, 0.59506715,\n",
              "       0.58940823, 0.30558477, 0.43941469, 0.48179924, 0.31507338])"
            ]
          },
          "metadata": {},
          "execution_count": 33
        }
      ]
    },
    {
      "cell_type": "code",
      "source": [
        "print(random.max())  #only the maximum value\n",
        "print(random.argmax())  # Maximum value with index"
      ],
      "metadata": {
        "colab": {
          "base_uri": "https://localhost:8080/"
        },
        "id": "nPkmJJUhpCZI",
        "outputId": "65035a14-85c4-4f82-c6a6-b0d8c79d19e9"
      },
      "execution_count": null,
      "outputs": [
        {
          "output_type": "stream",
          "name": "stdout",
          "text": [
            "0.804721575141959\n",
            "2\n"
          ]
        }
      ]
    },
    {
      "cell_type": "markdown",
      "source": [
        "# Full"
      ],
      "metadata": {
        "id": "tfGPZcuCFrU8"
      }
    },
    {
      "cell_type": "code",
      "source": [
        "np.full( [5,5] , 7, dtype=int )"
      ],
      "metadata": {
        "colab": {
          "base_uri": "https://localhost:8080/"
        },
        "id": "0mhE9o3nFsar",
        "outputId": "ccd509b2-60d1-4b8d-a69d-5c44d5114298"
      },
      "execution_count": 11,
      "outputs": [
        {
          "output_type": "execute_result",
          "data": {
            "text/plain": [
              "array([[7, 7, 7, 7, 7],\n",
              "       [7, 7, 7, 7, 7],\n",
              "       [7, 7, 7, 7, 7],\n",
              "       [7, 7, 7, 7, 7],\n",
              "       [7, 7, 7, 7, 7]])"
            ]
          },
          "metadata": {},
          "execution_count": 11
        }
      ]
    },
    {
      "cell_type": "markdown",
      "source": [
        "# Ideantical matrix"
      ],
      "metadata": {
        "id": "hotKbblTF75C"
      }
    },
    {
      "cell_type": "code",
      "source": [
        "np.eye(5)"
      ],
      "metadata": {
        "colab": {
          "base_uri": "https://localhost:8080/"
        },
        "id": "0KAFIyIqF9rR",
        "outputId": "d4e840e8-ba2a-42f5-e0cb-21a0b5455b9d"
      },
      "execution_count": 12,
      "outputs": [
        {
          "output_type": "execute_result",
          "data": {
            "text/plain": [
              "array([[1., 0., 0., 0., 0.],\n",
              "       [0., 1., 0., 0., 0.],\n",
              "       [0., 0., 1., 0., 0.],\n",
              "       [0., 0., 0., 1., 0.],\n",
              "       [0., 0., 0., 0., 1.]])"
            ]
          },
          "metadata": {},
          "execution_count": 12
        }
      ]
    },
    {
      "cell_type": "markdown",
      "source": [
        "# Printing technique\n"
      ],
      "metadata": {
        "id": "Oy6FnJpSUknX"
      }
    },
    {
      "cell_type": "code",
      "source": [
        "array1 = np.array( (1,2,3,4,5) )\n",
        "array2 = np.array( (5,6,7,8,9) )\n",
        "\n",
        "\n",
        "a = np.array([array1,array2])\n",
        "a"
      ],
      "metadata": {
        "colab": {
          "base_uri": "https://localhost:8080/"
        },
        "id": "TthUILPKUmnU",
        "outputId": "20475f17-534f-4774-f8ce-00de548b68b6"
      },
      "execution_count": 36,
      "outputs": [
        {
          "output_type": "execute_result",
          "data": {
            "text/plain": [
              "array([[1, 2, 3, 4, 5],\n",
              "       [5, 6, 7, 8, 9]])"
            ]
          },
          "metadata": {},
          "execution_count": 36
        }
      ]
    },
    {
      "cell_type": "code",
      "source": [
        "#print\n",
        "\n",
        "print(array1[0])\n",
        "\n",
        "#structure array[row,column]\n",
        "print(a[0,0])  #here row = 0, column = 0\n",
        "\n",
        "\n",
        "#print 4, 5\n",
        "      # 8, 9"
      ],
      "metadata": {
        "colab": {
          "base_uri": "https://localhost:8080/"
        },
        "id": "9oqhT8K6UxVG",
        "outputId": "0715b2d7-3f0f-4b51-8e21-a46b4cce3d59"
      },
      "execution_count": 34,
      "outputs": [
        {
          "output_type": "stream",
          "name": "stdout",
          "text": [
            "1\n",
            "1\n",
            "[[4]]\n"
          ]
        }
      ]
    },
    {
      "cell_type": "code",
      "source": [
        "print(a[0:2,3:5])"
      ],
      "metadata": {
        "colab": {
          "base_uri": "https://localhost:8080/"
        },
        "id": "PkrH3F_KWntU",
        "outputId": "04cf52ef-bd28-46aa-be37-13457956b7c9"
      },
      "execution_count": 38,
      "outputs": [
        {
          "output_type": "stream",
          "name": "stdout",
          "text": [
            "[[4 5]\n",
            " [8 9]]\n"
          ]
        }
      ]
    }
  ]
}