{
  "nbformat": 4,
  "nbformat_minor": 0,
  "metadata": {
    "colab": {
      "provenance": [],
      "authorship_tag": "ABX9TyO8QuI7orZebQK5U+L6BKqD",
      "include_colab_link": true
    },
    "kernelspec": {
      "name": "python3",
      "display_name": "Python 3"
    },
    "language_info": {
      "name": "python"
    }
  },
  "cells": [
    {
      "cell_type": "markdown",
      "metadata": {
        "id": "view-in-github",
        "colab_type": "text"
      },
      "source": [
        "<a href=\"https://colab.research.google.com/github/tajuar-akash-hub/Machine-learning-algorithms/blob/main/Numpy.ipynb\" target=\"_parent\"><img src=\"https://colab.research.google.com/assets/colab-badge.svg\" alt=\"Open In Colab\"/></a>"
      ]
    },
    {
      "cell_type": "markdown",
      "source": [
        "# why numpy?\n",
        "1 ) numpy is fast than list\n",
        "2) Element stored in conguous memory location\n",
        "3) its a MATLAB replacement\n",
        "4) can store images!"
      ],
      "metadata": {
        "id": "Ur6VU9b7rS93"
      }
    },
    {
      "cell_type": "markdown",
      "source": [
        "#Create an numpy array"
      ],
      "metadata": {
        "id": "tPidPxerqcmR"
      }
    },
    {
      "cell_type": "code",
      "source": [
        "import numpy as np"
      ],
      "metadata": {
        "id": "-9o85xD_qeSm"
      },
      "execution_count": null,
      "outputs": []
    },
    {
      "cell_type": "code",
      "source": [
        "a = np.array(\n",
        "    [1,2,3,4,5]\n",
        ")"
      ],
      "metadata": {
        "id": "mXHz1tjqqfwm"
      },
      "execution_count": null,
      "outputs": []
    },
    {
      "cell_type": "code",
      "source": [
        "a"
      ],
      "metadata": {
        "colab": {
          "base_uri": "https://localhost:8080/"
        },
        "id": "qHpJ-nCwqo-2",
        "outputId": "a612b986-014a-433b-86eb-a9def62638e7"
      },
      "execution_count": null,
      "outputs": [
        {
          "output_type": "execute_result",
          "data": {
            "text/plain": [
              "array([1, 2, 3, 4, 5])"
            ]
          },
          "metadata": {},
          "execution_count": 6
        }
      ]
    },
    {
      "cell_type": "markdown",
      "source": [
        "# 2D array"
      ],
      "metadata": {
        "id": "1otBNiTQrIrG"
      }
    },
    {
      "cell_type": "code",
      "source": [
        "b = np.array([ [1,2,3,4],[5,6,7,8] ] )\n",
        "b\n"
      ],
      "metadata": {
        "colab": {
          "base_uri": "https://localhost:8080/"
        },
        "id": "hkTHIYlNrJSZ",
        "outputId": "55d92557-080b-414a-a6d3-b02223ac70f2"
      },
      "execution_count": null,
      "outputs": [
        {
          "output_type": "execute_result",
          "data": {
            "text/plain": [
              "array([[1, 2, 3, 4],\n",
              "       [5, 6, 7, 8]])"
            ]
          },
          "metadata": {},
          "execution_count": 7
        }
      ]
    },
    {
      "cell_type": "markdown",
      "source": [
        "# 3D array"
      ],
      "metadata": {
        "id": "53b_Wyv0u_tl"
      }
    },
    {
      "cell_type": "code",
      "source": [
        "c = np.array(\n",
        "    [  [ [1,2,3,4,5] ]  ]\n",
        ")"
      ],
      "metadata": {
        "id": "P72G4opVvBG9"
      },
      "execution_count": null,
      "outputs": []
    },
    {
      "cell_type": "code",
      "source": [
        "print(c.shape)"
      ],
      "metadata": {
        "colab": {
          "base_uri": "https://localhost:8080/"
        },
        "id": "B2iJQPxYvW3q",
        "outputId": "40d86db6-704c-42b2-dae7-e01df1853bee"
      },
      "execution_count": null,
      "outputs": [
        {
          "output_type": "stream",
          "name": "stdout",
          "text": [
            "(1, 1, 5)\n"
          ]
        }
      ]
    },
    {
      "cell_type": "markdown",
      "source": [
        "# Get Dimension\n"
      ],
      "metadata": {
        "id": "iDZENThnt61-"
      }
    },
    {
      "cell_type": "code",
      "source": [
        "print(a.ndim)\n",
        "print(b.ndim)"
      ],
      "metadata": {
        "colab": {
          "base_uri": "https://localhost:8080/"
        },
        "id": "zzonxFKquB4e",
        "outputId": "2bb61469-c965-4ce2-b8f9-5089273afe7b"
      },
      "execution_count": null,
      "outputs": [
        {
          "output_type": "stream",
          "name": "stdout",
          "text": [
            "1\n",
            "2\n"
          ]
        }
      ]
    },
    {
      "cell_type": "markdown",
      "source": [
        "# Get Shape"
      ],
      "metadata": {
        "id": "taGDK8dQuLGe"
      }
    },
    {
      "cell_type": "code",
      "source": [],
      "metadata": {
        "id": "BhV4-tfOuTyU"
      },
      "execution_count": null,
      "outputs": []
    },
    {
      "cell_type": "code",
      "source": [
        "print(a.shape)\n",
        "print(b.shape)"
      ],
      "metadata": {
        "colab": {
          "base_uri": "https://localhost:8080/"
        },
        "id": "DthU7R2AuMhn",
        "outputId": "6a46816d-e1c0-453d-c67e-d526d3503d6f"
      },
      "execution_count": null,
      "outputs": [
        {
          "output_type": "stream",
          "name": "stdout",
          "text": [
            "(5,)\n",
            "(2, 4)\n"
          ]
        }
      ]
    },
    {
      "cell_type": "markdown",
      "source": [
        "# Get type"
      ],
      "metadata": {
        "id": "n14Nk6gYvy7u"
      }
    },
    {
      "cell_type": "code",
      "source": [
        "print(a.dtype)\n",
        "print(b.dtype)\n",
        "print(c.dtype)"
      ],
      "metadata": {
        "id": "rXYRBuw-v3hs",
        "outputId": "ff9bc7e9-8f5b-44b5-9051-bab39d9499f1",
        "colab": {
          "base_uri": "https://localhost:8080/"
        }
      },
      "execution_count": null,
      "outputs": [
        {
          "output_type": "stream",
          "name": "stdout",
          "text": [
            "int64\n",
            "int64\n",
            "int64\n"
          ]
        }
      ]
    },
    {
      "cell_type": "markdown",
      "source": [
        "# zero"
      ],
      "metadata": {
        "id": "c6SS6aZ0I-Np"
      }
    },
    {
      "cell_type": "code",
      "source": [
        "zero = np.zeros( (2,3) )\n",
        "zero"
      ],
      "metadata": {
        "colab": {
          "base_uri": "https://localhost:8080/"
        },
        "id": "3idjQJ2yJAFF",
        "outputId": "298f3497-920d-4cfd-87cf-1e5dc7e4d27a"
      },
      "execution_count": null,
      "outputs": [
        {
          "output_type": "execute_result",
          "data": {
            "text/plain": [
              "array([[0., 0., 0.],\n",
              "       [0., 0., 0.]])"
            ]
          },
          "metadata": {},
          "execution_count": 15
        }
      ]
    },
    {
      "cell_type": "markdown",
      "source": [
        "#random"
      ],
      "metadata": {
        "id": "3PbGmwjmJOjZ"
      }
    },
    {
      "cell_type": "code",
      "source": [
        "random = np.random.random( (2,3) )\n",
        "random"
      ],
      "metadata": {
        "colab": {
          "base_uri": "https://localhost:8080/"
        },
        "id": "v_XqbdppJQI5",
        "outputId": "8ff83041-a17d-48e8-dd32-901d4bed79dc"
      },
      "execution_count": null,
      "outputs": [
        {
          "output_type": "execute_result",
          "data": {
            "text/plain": [
              "array([[0.19146245, 0.20978234, 0.82656233],\n",
              "       [0.3894867 , 0.1464109 , 0.98479732]])"
            ]
          },
          "metadata": {},
          "execution_count": 17
        }
      ]
    }
  ]
}