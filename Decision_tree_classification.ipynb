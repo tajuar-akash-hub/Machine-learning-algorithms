{
  "nbformat": 4,
  "nbformat_minor": 0,
  "metadata": {
    "colab": {
      "provenance": [],
      "authorship_tag": "ABX9TyPLfugUW2/l9YZ2ZPxAsPMN",
      "include_colab_link": true
    },
    "kernelspec": {
      "name": "python3",
      "display_name": "Python 3"
    },
    "language_info": {
      "name": "python"
    }
  },
  "cells": [
    {
      "cell_type": "markdown",
      "metadata": {
        "id": "view-in-github",
        "colab_type": "text"
      },
      "source": [
        "<a href=\"https://colab.research.google.com/github/tajuar-akash-hub/Machine-learning-algorithms/blob/main/Decision_tree_classification.ipynb\" target=\"_parent\"><img src=\"https://colab.research.google.com/assets/colab-badge.svg\" alt=\"Open In Colab\"/></a>"
      ]
    },
    {
      "cell_type": "code",
      "execution_count": null,
      "metadata": {
        "id": "EW1zQ3ZwRv2B"
      },
      "outputs": [],
      "source": [
        "!git clone https://github.com/tajuar-akash-hub/Datasets.git"
      ]
    },
    {
      "cell_type": "code",
      "source": [
        "!pip install geopandas"
      ],
      "metadata": {
        "id": "XFjU4Yc76675"
      },
      "execution_count": null,
      "outputs": []
    },
    {
      "cell_type": "code",
      "source": [
        "\n",
        "import pandas as pd\n",
        "\n",
        "\n",
        "df = pd.read_csv(\"/content/Datasets/diabetes_two.csv\")\n",
        "df.head(1)"
      ],
      "metadata": {
        "id": "b9VprzPxSJx7"
      },
      "execution_count": null,
      "outputs": []
    },
    {
      "cell_type": "code",
      "source": [
        "df.info()"
      ],
      "metadata": {
        "id": "iaVCuBdZSJ0y"
      },
      "execution_count": null,
      "outputs": []
    },
    {
      "cell_type": "code",
      "source": [
        "df.isnull().sum()"
      ],
      "metadata": {
        "id": "cacFz9PrSJ3L"
      },
      "execution_count": null,
      "outputs": []
    },
    {
      "cell_type": "code",
      "source": [
        "df[\"Age\"] = df['Age'].fillna(df['Age'].median())"
      ],
      "metadata": {
        "id": "BAthfWLNlN4I"
      },
      "execution_count": null,
      "outputs": []
    },
    {
      "cell_type": "code",
      "source": [
        "#replacing Gender's missing value with most frequent value\n",
        "\n",
        "most_frequent_category = df[\"Gender\"].mode().iloc[0]  #find the most frequent category\n",
        "# ques : what i iloc[0]?\n",
        "\n",
        "df['Gender'].fillna(most_frequent_category,inplace=True) #replacing the most frequent\n"
      ],
      "metadata": {
        "id": "b1m92aZwls24"
      },
      "execution_count": null,
      "outputs": []
    },
    {
      "cell_type": "code",
      "source": [
        "df.isnull().sum()"
      ],
      "metadata": {
        "id": "buezGqZ5lsvA"
      },
      "execution_count": null,
      "outputs": []
    },
    {
      "cell_type": "code",
      "source": [
        "from sklearn.preprocessing import LabelEncoder\n",
        "le = LabelEncoder()"
      ],
      "metadata": {
        "id": "buYoFKiCSJ5q"
      },
      "execution_count": null,
      "outputs": []
    },
    {
      "cell_type": "code",
      "source": [
        "df[\"Gender\"] = le.fit_transform(df['Gender'])\n",
        "#ques : how this is working? didn't get it!\n",
        "\n",
        "df[\"Polyuria\"] = le.fit_transform(df['Polyuria'])\n",
        "\n",
        "df[\"Polydipsia\"] = le.fit_transform(df['Polydipsia'])\n",
        "\n",
        "df[\"sudden weight loss\"] = le.fit_transform(df['sudden weight loss'])\n",
        "\n",
        "df[\"weakness\"] = le.fit_transform(df['weakness'])\n",
        "\n",
        "df[\"Polyphagia\"] = le.fit_transform(df['Polyphagia'])\n",
        "\n",
        "df[\"Genital thrush\"] = le.fit_transform(df['Genital thrush'])\n",
        "\n",
        "df[\"visual blurring\"] = le.fit_transform(df['visual blurring'])\n",
        "\n",
        "df[\"Itching\"] = le.fit_transform(df['Itching'])\n",
        "\n",
        "df[\"Irritability\"] = le.fit_transform(df['Irritability'])\n",
        "\n",
        "df[\"delayed healing\"] = le.fit_transform(df['delayed healing'])\n",
        "\n",
        "df[\"partial paresis\"] = le.fit_transform(df['partial paresis'])\n",
        "\n",
        "df[\"muscle stiffness\"] = le.fit_transform(df['muscle stiffness'])\n",
        "\n",
        "df[\"Alopecia\"] = le.fit_transform(df['Alopecia'])\n",
        "\n",
        "\n",
        "df[\"Obesity\"] = le.fit_transform(df['Obesity'])\n",
        "\n",
        "df[\"class\"] = le.fit_transform(df['class'])\n",
        "\n"
      ],
      "metadata": {
        "id": "ICl8NOAGk7yI"
      },
      "execution_count": null,
      "outputs": []
    },
    {
      "cell_type": "code",
      "source": [
        "df.info()"
      ],
      "metadata": {
        "id": "StRgWYWNTZNB"
      },
      "execution_count": null,
      "outputs": []
    },
    {
      "cell_type": "code",
      "source": [
        "value_counts = df.groupby('class').size().reset_index(name='count')\n",
        "print(value_counts)"
      ],
      "metadata": {
        "id": "17NN8iHCmOfH"
      },
      "execution_count": null,
      "outputs": []
    },
    {
      "cell_type": "code",
      "source": [
        "z_score = (df['Age'] - df['Age'].mean())/df['Age'].std()"
      ],
      "metadata": {
        "id": "GqRAhY8YmOcn"
      },
      "execution_count": null,
      "outputs": []
    },
    {
      "cell_type": "code",
      "source": [
        "for i in z_score:\n",
        "  if i<-3:\n",
        "    print(\"You have outlier\",i)\n",
        "  elif i>3:\n",
        "      print(\"You have outlier\",i)\n",
        "  else:\n",
        "    continue\n",
        "  #it is not showing the index of outlier"
      ],
      "metadata": {
        "id": "MrrQLS8qmOaH"
      },
      "execution_count": null,
      "outputs": []
    },
    {
      "cell_type": "code",
      "source": [
        "import matplotlib.pyplot as plt\n",
        "import seaborn as sns\n",
        "\n",
        "sns.set(font_scale=2)\n",
        "plt.subplots(figsize=(20, 20))\n",
        "heat_map = sns.heatmap(df.corr(method='pearson'), annot=True, cmap='RdYlGn', annot_kws={'size': 20}) # pearson correlation\n",
        "plt.yticks(fontsize=35)\n",
        "plt.xticks(fontsize=35)  # Remove the '=' sign\n",
        "plt.show()\n"
      ],
      "metadata": {
        "id": "anr7aAMPmOTH"
      },
      "execution_count": null,
      "outputs": []
    },
    {
      "cell_type": "code",
      "source": [
        "correlations = df.corr(method='pearson')\n",
        "print(correlations['class'].sort_values(ascending=False).to_string())\n"
      ],
      "metadata": {
        "id": "jsqdfdY7nDK2"
      },
      "execution_count": null,
      "outputs": []
    },
    {
      "cell_type": "code",
      "source": [
        "df['class'].iloc[0:200]"
      ],
      "metadata": {
        "id": "wJHh0TuWoGyN"
      },
      "execution_count": null,
      "outputs": []
    },
    {
      "cell_type": "code",
      "source": [
        "from sklearn.utils import shuffle\n",
        "shuffled_df = shuffle(df)"
      ],
      "metadata": {
        "id": "qX_Jwq8JoMaE"
      },
      "execution_count": null,
      "outputs": []
    },
    {
      "cell_type": "code",
      "source": [
        "rearranged_df = shuffled_df.reset_index(drop = True)\n",
        "rearranged_df\n"
      ],
      "metadata": {
        "id": "sVy3ihqdoMX0"
      },
      "execution_count": null,
      "outputs": []
    },
    {
      "cell_type": "code",
      "source": [
        "x = rearranged_df.drop(columns = ['class'])\n",
        "y = rearranged_df['class']"
      ],
      "metadata": {
        "id": "j5paqpM0oMVd"
      },
      "execution_count": null,
      "outputs": []
    },
    {
      "cell_type": "code",
      "source": [
        "from sklearn.preprocessing import MinMaxScaler\n",
        "from sklearn.preprocessing import StandardScaler"
      ],
      "metadata": {
        "id": "yaictE2VoMSt"
      },
      "execution_count": null,
      "outputs": []
    },
    {
      "cell_type": "code",
      "source": [
        "scaler1= MinMaxScaler()\n",
        "MinMax_scaler_X = scaler1.fit_transform(x) #min-mx scaling ( 0 to 1)\n",
        "MinMax_scaler_X\n",
        "\n",
        "#we won't use scaled dataset in our model"
      ],
      "metadata": {
        "id": "RVEIlL6JosxV"
      },
      "execution_count": null,
      "outputs": []
    },
    {
      "cell_type": "markdown",
      "source": [
        "<h1> <font color= \"yellow\">\n",
        "K cross validation\n",
        "</h1>"
      ],
      "metadata": {
        "id": "icn7Glflo9yL"
      }
    },
    {
      "cell_type": "code",
      "source": [
        "from sklearn.tree import DecisionTreeClassifier\n",
        "\n",
        "\n",
        "#this hyper-parameters are very sensitive\n",
        "# you can modify them to get desired accuracy\n",
        "\n",
        "DTclassifier = DecisionTreeClassifier(criterion='gini',\n",
        "                                  max_depth= 5, #you can shift the value to get more accuracy\n",
        "                                  min_samples_split= 2,\n",
        "                                  min_samples_leaf= 1,\n",
        "                                  max_features= None,\n",
        "                                  max_leaf_nodes= None,\n",
        "                                  min_impurity_decrease= 0.01\n",
        "                                  )"
      ],
      "metadata": {
        "id": "NT9oIl5Lo9GS"
      },
      "execution_count": null,
      "outputs": []
    },
    {
      "cell_type": "code",
      "source": [
        "from sklearn.model_selection import cross_val_score\n",
        "from sklearn.model_selection import KFold\n",
        "\n",
        "k_fold = KFold(10)\n",
        "\n",
        "accuracy = cross_val_score(DTclassifier, x, y, cv=k_fold , scoring='accuracy')\n",
        "precision = cross_val_score(DTclassifier, x, y, cv=k_fold , scoring='precision')\n",
        "recall = cross_val_score(DTclassifier, x, y, cv=k_fold , scoring='recall')\n",
        "f1_score = cross_val_score(DTclassifier, x, y, cv=k_fold , scoring='f1')\n",
        "AUC = cross_val_score(DTclassifier, x, y, cv=k_fold , scoring='roc_auc')\n",
        "\n"
      ],
      "metadata": {
        "id": "YDfsJl9Lo9Dz"
      },
      "execution_count": null,
      "outputs": []
    },
    {
      "cell_type": "markdown",
      "source": [
        "<h1>\n",
        "full documentatoin here :\n",
        "https://scikit-learn.org/stable/modules/generated/sklearn.tree.DecisionTreeClassifier.html\n",
        "</h1>"
      ],
      "metadata": {
        "id": "zm31qayE1Tle"
      }
    },
    {
      "cell_type": "code",
      "source": [
        "accuracy # in accuracy there is 10 value, cz of k-fold(10)"
      ],
      "metadata": {
        "id": "Lrin16Nbo9BU"
      },
      "execution_count": null,
      "outputs": []
    },
    {
      "cell_type": "code",
      "source": [
        "overall_accuracy = sum(accuracy)/len(accuracy)\n",
        "print((overall_accuracy))"
      ],
      "metadata": {
        "id": "VQAL5hc_o8-j"
      },
      "execution_count": null,
      "outputs": []
    },
    {
      "cell_type": "code",
      "source": [
        "precision"
      ],
      "metadata": {
        "id": "h7BWeoxY1_OF"
      },
      "execution_count": null,
      "outputs": []
    },
    {
      "cell_type": "code",
      "source": [
        "overall_precision = sum(precision)/len(precision)\n",
        "print(abs(overall_precision))"
      ],
      "metadata": {
        "id": "OQ2i6AFQ1_K0"
      },
      "execution_count": null,
      "outputs": []
    },
    {
      "cell_type": "code",
      "source": [
        "recall"
      ],
      "metadata": {
        "id": "EQr8q_pF1_IE"
      },
      "execution_count": null,
      "outputs": []
    },
    {
      "cell_type": "code",
      "source": [
        "overall_recall = sum(recall)/len(recall)\n",
        "print(overall_recall)"
      ],
      "metadata": {
        "id": "vplZ81sI1_FF"
      },
      "execution_count": null,
      "outputs": []
    },
    {
      "cell_type": "code",
      "source": [
        "f1_score"
      ],
      "metadata": {
        "id": "twKv1tDx36zU"
      },
      "execution_count": null,
      "outputs": []
    },
    {
      "cell_type": "code",
      "source": [
        "overall_f1_score = sum(f1_score)/len(f1_score)\n",
        "print(overall_f1_score)"
      ],
      "metadata": {
        "id": "5kqxE7dh36wt"
      },
      "execution_count": null,
      "outputs": []
    },
    {
      "cell_type": "code",
      "source": [
        "AUC"
      ],
      "metadata": {
        "id": "YH9T9rjP36t5"
      },
      "execution_count": null,
      "outputs": []
    },
    {
      "cell_type": "code",
      "source": [
        "overall_AUC= sum(AUC)/len(AUC)\n",
        "print(overall_AUC)"
      ],
      "metadata": {
        "id": "_kwd8TW84Mjb"
      },
      "execution_count": null,
      "outputs": []
    },
    {
      "cell_type": "markdown",
      "source": [
        "<h1> <font color=\"yellow\">\n",
        "Several ways to get desired accuray <br> <br>\n",
        "1) **change the hyperparamters of classfier (where you imported it). <br> <br>\n",
        "tune it to get the exactly suitable hyper-parameters <br> <br>\n",
        "for more info : **Hyper parameter tuning ** <br><Br>\n",
        "\n",
        "2) drop those negatively correlated values\n",
        "\n",
        "\n",
        "\n",
        "</h1>"
      ],
      "metadata": {
        "id": "yn3t4zk_5oo4"
      }
    }
  ]
}