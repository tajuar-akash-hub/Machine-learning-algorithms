{
  "nbformat": 4,
  "nbformat_minor": 0,
  "metadata": {
    "colab": {
      "provenance": [],
      "authorship_tag": "ABX9TyOiMtrIbbkQfBOyN8GGGEg3",
      "include_colab_link": true
    },
    "kernelspec": {
      "name": "python3",
      "display_name": "Python 3"
    },
    "language_info": {
      "name": "python"
    }
  },
  "cells": [
    {
      "cell_type": "markdown",
      "metadata": {
        "id": "view-in-github",
        "colab_type": "text"
      },
      "source": [
        "<a href=\"https://colab.research.google.com/github/tajuar-akash-hub/Machine-learning-algorithms/blob/main/ConfusionMatrixImplementation.ipynb\" target=\"_parent\"><img src=\"https://colab.research.google.com/assets/colab-badge.svg\" alt=\"Open In Colab\"/></a>"
      ]
    },
    {
      "cell_type": "code",
      "execution_count": 1,
      "metadata": {
        "id": "IM8P_GUnt_5t"
      },
      "outputs": [],
      "source": [
        "#import libraries\n",
        "\n",
        "import numpy as np\n",
        "from sklearn.metrics import confusion_matrix,classification_report   #confusion matrix\n",
        "import seaborn as sns\n",
        "import matplotlib.pyplot as plt"
      ]
    },
    {
      "cell_type": "code",
      "source": [
        "actual = np.array( ['Dog','Dog','Dog','Not Dog','Dog','Not Dog','Dog','Dog','Not Dog','Not Dog'])\n",
        "predicted = np.array( ['Dog','Not Dog','Dog','Not Dog','Dog','Dog','Dog','Dog','Not Dog','Not Dog'])\n",
        "\n",
        "#each has 10 values"
      ],
      "metadata": {
        "id": "tf_2GCXCulT_"
      },
      "execution_count": 2,
      "outputs": []
    },
    {
      "cell_type": "code",
      "source": [
        "cm = confusion_matrix(actual,predicted)"
      ],
      "metadata": {
        "id": "nDwIeuDZWDnp"
      },
      "execution_count": 3,
      "outputs": []
    },
    {
      "cell_type": "code",
      "source": [
        "sns.heatmap(cm, annot=True, fmt='g',xticklabels=['Dog','Not Dog'], yticklabels=['Dog','Not Dog'])\n",
        "plt.ylabel('Actual', fontsize=13)\n",
        "plt.title('Confusion Matrix', fontsize=17, pad=20)\n",
        "plt.gca().xaxis.set_label_position('top')\n",
        "plt.xlabel('Prediction', fontsize=13)\n",
        "plt.gca().xaxis.tick_top()\n",
        "plt.gca().figure.subplots_adjust(bottom=0.2)\n",
        "plt.gca().figure.text(0.5, 0.05, 'Prediction', ha='center', fontsize=13)\n",
        "plt.show()"
      ],
      "metadata": {
        "id": "MKwy7opRWOuO"
      },
      "execution_count": null,
      "outputs": []
    }
  ]
}