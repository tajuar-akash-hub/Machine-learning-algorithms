{
  "nbformat": 4,
  "nbformat_minor": 0,
  "metadata": {
    "colab": {
      "provenance": [],
      "authorship_tag": "ABX9TyMoqfw/lk1zWP2w8iFwb16n",
      "include_colab_link": true
    },
    "kernelspec": {
      "name": "python3",
      "display_name": "Python 3"
    },
    "language_info": {
      "name": "python"
    }
  },
  "cells": [
    {
      "cell_type": "markdown",
      "metadata": {
        "id": "view-in-github",
        "colab_type": "text"
      },
      "source": [
        "<a href=\"https://colab.research.google.com/github/tajuar-akash-hub/Machine-learning-algorithms/blob/main/merging_notebook_procedure.ipynb\" target=\"_parent\"><img src=\"https://colab.research.google.com/assets/colab-badge.svg\" alt=\"Open In Colab\"/></a>"
      ]
    },
    {
      "cell_type": "code",
      "source": [
        "!pip install nbmerge"
      ],
      "metadata": {
        "id": "XlMm6ueDhDFA",
        "colab": {
          "base_uri": "https://localhost:8080/"
        },
        "outputId": "ee23fd64-6383-47de-8e20-bf98da6fe3e2"
      },
      "execution_count": 7,
      "outputs": [
        {
          "output_type": "stream",
          "name": "stdout",
          "text": [
            "Requirement already satisfied: nbmerge in /usr/local/lib/python3.10/dist-packages (0.0.4)\n"
          ]
        }
      ]
    },
    {
      "cell_type": "code",
      "source": [
        "from google.colab import drive\n",
        "drive.mount('/content/drive')"
      ],
      "metadata": {
        "colab": {
          "base_uri": "https://localhost:8080/"
        },
        "id": "lCXwTLmohwm3",
        "outputId": "b63a2131-06a2-4457-f86a-e25c3e2a0d78"
      },
      "execution_count": 9,
      "outputs": [
        {
          "output_type": "stream",
          "name": "stdout",
          "text": [
            "Mounted at /content/drive\n"
          ]
        }
      ]
    },
    {
      "cell_type": "code",
      "source": [
        "import os\n",
        "os.listdir('/content/drive/My Drive/merge')"
      ],
      "metadata": {
        "colab": {
          "base_uri": "https://localhost:8080/"
        },
        "id": "pdC2pbYXh1YX",
        "outputId": "f9bc94cb-8b81-4954-d589-16667827a214"
      },
      "execution_count": 23,
      "outputs": [
        {
          "output_type": "execute_result",
          "data": {
            "text/plain": [
              "['Customer_Segmentation.ipynb',\n",
              " 'Mall.ipynb',\n",
              " 'sales.ipynb',\n",
              " 'Sales_Analysis.ipynb',\n",
              " 'Product_Sales_Analysis.ipynb',\n",
              " 'Sales Analysis.ipynb',\n",
              " 'merged_notebook.ipynb']"
            ]
          },
          "metadata": {},
          "execution_count": 23
        }
      ]
    },
    {
      "cell_type": "code",
      "source": [
        "ipynb1=os.listdir('/content/drive/My Drive/merge')[0]\n",
        "ipynb2=os.listdir('/content/drive/My Drive/merge')[1]\n",
        "ipynb3=os.listdir('/content/drive/My Drive/merge')[2]\n",
        "ipynb4=os.listdir('/content/drive/My Drive/merge')[3]\n",
        "ipynb5=os.listdir('/content/drive/My Drive/merge')[4]\n",
        "ipynb6=os.listdir('/content/drive/My Drive/merge')[5]\n"
      ],
      "metadata": {
        "id": "8b6PYzWOiuy5"
      },
      "execution_count": 19,
      "outputs": []
    },
    {
      "cell_type": "code",
      "source": [
        "import os\n",
        "\n",
        "# Get the paths of the notebooks\n",
        "notebooks = [\n",
        "    '/content/drive/My Drive/merge/' + ipynb1,\n",
        "    '/content/drive/My Drive/merge/' + ipynb2,\n",
        "    '/content/drive/My Drive/merge/' + ipynb3,\n",
        "    '/content/drive/My Drive/merge/' + ipynb4,\n",
        "    '/content/drive/My Drive/merge/' + ipynb5,\n",
        "    '/content/drive/My Drive/merge/' + ipynb6\n",
        "]\n",
        "\n",
        "# Output file path for the merged notebook\n",
        "output_notebook = '/content/drive/My Drive/merge/merged_notebook.ipynb'\n"
      ],
      "metadata": {
        "id": "UwrmCU_ejMPw"
      },
      "execution_count": 20,
      "outputs": []
    },
    {
      "cell_type": "code",
      "source": [
        "!pip install nbformat\n"
      ],
      "metadata": {
        "colab": {
          "base_uri": "https://localhost:8080/"
        },
        "id": "XSdl-1_njWJ_",
        "outputId": "29b20f95-74c8-4f1f-b10f-5efc052a5189"
      },
      "execution_count": 21,
      "outputs": [
        {
          "output_type": "stream",
          "name": "stdout",
          "text": [
            "Requirement already satisfied: nbformat in /usr/local/lib/python3.10/dist-packages (5.10.4)\n",
            "Requirement already satisfied: fastjsonschema>=2.15 in /usr/local/lib/python3.10/dist-packages (from nbformat) (2.20.0)\n",
            "Requirement already satisfied: jsonschema>=2.6 in /usr/local/lib/python3.10/dist-packages (from nbformat) (4.23.0)\n",
            "Requirement already satisfied: jupyter-core!=5.0.*,>=4.12 in /usr/local/lib/python3.10/dist-packages (from nbformat) (5.7.2)\n",
            "Requirement already satisfied: traitlets>=5.1 in /usr/local/lib/python3.10/dist-packages (from nbformat) (5.7.1)\n",
            "Requirement already satisfied: attrs>=22.2.0 in /usr/local/lib/python3.10/dist-packages (from jsonschema>=2.6->nbformat) (24.2.0)\n",
            "Requirement already satisfied: jsonschema-specifications>=2023.03.6 in /usr/local/lib/python3.10/dist-packages (from jsonschema>=2.6->nbformat) (2024.10.1)\n",
            "Requirement already satisfied: referencing>=0.28.4 in /usr/local/lib/python3.10/dist-packages (from jsonschema>=2.6->nbformat) (0.35.1)\n",
            "Requirement already satisfied: rpds-py>=0.7.1 in /usr/local/lib/python3.10/dist-packages (from jsonschema>=2.6->nbformat) (0.20.0)\n",
            "Requirement already satisfied: platformdirs>=2.5 in /usr/local/lib/python3.10/dist-packages (from jupyter-core!=5.0.*,>=4.12->nbformat) (4.3.6)\n"
          ]
        }
      ]
    },
    {
      "cell_type": "code",
      "source": [
        "import nbformat\n",
        "\n",
        "def merge_notebooks(notebook_files, output_file):\n",
        "    merged_notebook = nbformat.v4.new_notebook()\n",
        "\n",
        "    # Loop through each notebook and append its cells to the merged notebook\n",
        "    for notebook_file in notebook_files:\n",
        "        with open(notebook_file, 'r') as f:\n",
        "            notebook = nbformat.read(f, as_version=4)\n",
        "            merged_notebook.cells.extend(notebook.cells)\n",
        "\n",
        "    # Save the merged notebook to an output file\n",
        "    with open(output_file, 'w') as f:\n",
        "        nbformat.write(merged_notebook, f)\n",
        "\n",
        "# Merge the notebooks\n",
        "merge_notebooks(notebooks, output_notebook)\n",
        "\n",
        "print(f\"Merged notebook saved at: {output_notebook}\")\n"
      ],
      "metadata": {
        "colab": {
          "base_uri": "https://localhost:8080/"
        },
        "id": "vqgLkR1FjbZu",
        "outputId": "b1332e04-440b-4e6f-e796-7942e5a140b9"
      },
      "execution_count": 22,
      "outputs": [
        {
          "output_type": "stream",
          "name": "stderr",
          "text": [
            "/usr/local/lib/python3.10/dist-packages/nbformat/__init__.py:132: MissingIDFieldWarning: Cell is missing an id field, this will become a hard error in future nbformat versions. You may want to use `normalize()` on your notebooks before validations (available since nbformat 5.1.4). Previous versions of nbformat are fixing this issue transparently, and will stop doing so in the future.\n",
            "  validate(nb)\n"
          ]
        },
        {
          "output_type": "stream",
          "name": "stdout",
          "text": [
            "Merged notebook saved at: /content/drive/My Drive/merge/merged_notebook.ipynb\n"
          ]
        }
      ]
    },
    {
      "cell_type": "code",
      "execution_count": 8,
      "metadata": {
        "id": "xC_CSUeidOUu"
      },
      "outputs": [],
      "source": [
        "from nbmerge import merge_notebooks\n",
        "\n",
        "# List of notebook files you want to merge\n",
        "notebooks = [\n",
        "    'Sales_Analysis.ipynb',\n",
        "    'Sales_Analysis.ipynb',\n",
        "    'sales.ipynb',\n",
        "    'Product_Sales_Analysis.ipynb',\n",
        "    'Mall.ipynb',\n",
        "    'Customer_Segmentation.ipynb'\n",
        "]\n",
        "\n",
        "# Output file\n",
        "output_notebook = 'merged_notebook.ipynb'\n",
        "\n",
        "\n"
      ]
    }
  ]
}