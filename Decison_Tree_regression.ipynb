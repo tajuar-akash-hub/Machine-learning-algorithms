{
  "nbformat": 4,
  "nbformat_minor": 0,
  "metadata": {
    "colab": {
      "provenance": [],
      "authorship_tag": "ABX9TyNGICjQyZLNReJyBZTcXTrC",
      "include_colab_link": true
    },
    "kernelspec": {
      "name": "python3",
      "display_name": "Python 3"
    },
    "language_info": {
      "name": "python"
    }
  },
  "cells": [
    {
      "cell_type": "markdown",
      "metadata": {
        "id": "view-in-github",
        "colab_type": "text"
      },
      "source": [
        "<a href=\"https://colab.research.google.com/github/tajuar-akash-hub/Machine-learning-algorithms/blob/main/Decison_Tree_regression.ipynb\" target=\"_parent\"><img src=\"https://colab.research.google.com/assets/colab-badge.svg\" alt=\"Open In Colab\"/></a>"
      ]
    },
    {
      "cell_type": "markdown",
      "source": [
        "<h1> <font color=\"yellow\">\n",
        "Here's is two part <br>\n",
        "1) Decision tree regression <br>\n",
        "2) Decision tree Classification <br>\n",
        "**This is dicision tree Regression**\n",
        "<h1>"
      ],
      "metadata": {
        "id": "Nyi45WR7Po62"
      }
    },
    {
      "cell_type": "code",
      "execution_count": null,
      "metadata": {
        "id": "kAM0w8sceC1j"
      },
      "outputs": [],
      "source": [
        "from google.colab import drive\n",
        "drive.mount(\"/content/drive\")"
      ]
    },
    {
      "cell_type": "code",
      "source": [
        "import pandas as pd\n",
        "df = pd.read_csv(\"/content/drive/MyDrive/Dataset/Salary Data (1).csv\")\n",
        "df.head()"
      ],
      "metadata": {
        "id": "KItcx2K1ecIE"
      },
      "execution_count": null,
      "outputs": []
    },
    {
      "cell_type": "code",
      "source": [
        "df.info()"
      ],
      "metadata": {
        "id": "2FfAgj22e2ck"
      },
      "execution_count": null,
      "outputs": []
    },
    {
      "cell_type": "code",
      "source": [
        "df.isnull().sum()"
      ],
      "metadata": {
        "id": "7ENccc3ffAHM"
      },
      "execution_count": null,
      "outputs": []
    },
    {
      "cell_type": "code",
      "source": [
        "df['Age'] = df['Age'].fillna(df['Age'].mean())\n",
        "df['Salary'] = df['Salary'].fillna(df['Salary'].mean())\n",
        "df['Years of Experience'] = df['Years of Experience'].fillna(df['Years of Experience'].mean())"
      ],
      "metadata": {
        "id": "c4uMZQbGfAJ7"
      },
      "execution_count": null,
      "outputs": []
    },
    {
      "cell_type": "code",
      "source": [
        "most_frequent_category = df['Gender'].mode()[0]\n",
        "df['Gender'] = df['Gender'].fillna(most_frequent_category)\n",
        "\n",
        "most_frequent_category = df['Job Title'].mode()[0]\n",
        "df['Job Title'] = df['Job Title'].fillna(most_frequent_category)\n",
        "\n",
        "most_frequent_category = df['Education Level'].mode()[0]\n",
        "df['Education Level'] = df['Education Level'].fillna(most_frequent_category)"
      ],
      "metadata": {
        "id": "YniYfNW8fAMa"
      },
      "execution_count": null,
      "outputs": []
    },
    {
      "cell_type": "code",
      "source": [
        "df.isnull().sum()"
      ],
      "metadata": {
        "id": "GDWMthQIfAPL"
      },
      "execution_count": null,
      "outputs": []
    },
    {
      "cell_type": "code",
      "source": [
        "from sklearn.preprocessing import LabelEncoder\n",
        "le = LabelEncoder()"
      ],
      "metadata": {
        "id": "OE_kcC51fAST"
      },
      "execution_count": null,
      "outputs": []
    },
    {
      "cell_type": "code",
      "source": [
        "df['Gender'] = le.fit_transform(df['Gender'])\n",
        "df['Job Title'] = le.fit_transform(df['Job Title'])\n",
        "df['Education Level'] = le.fit_transform(df['Education Level'])"
      ],
      "metadata": {
        "id": "s-EzCqs6gi_d"
      },
      "execution_count": null,
      "outputs": []
    },
    {
      "cell_type": "code",
      "source": [
        "df.info()"
      ],
      "metadata": {
        "id": "G3lDuyeQgjB7"
      },
      "execution_count": null,
      "outputs": []
    },
    {
      "cell_type": "code",
      "source": [
        "#feature and target separation\n",
        "x=df.drop(['Salary'],axis=1)\n",
        "y=df['Salary']"
      ],
      "metadata": {
        "id": "oT7Z1Qi5gjEr"
      },
      "execution_count": null,
      "outputs": []
    },
    {
      "cell_type": "code",
      "source": [
        "x"
      ],
      "metadata": {
        "id": "8mpT9B6ggjHM"
      },
      "execution_count": null,
      "outputs": []
    },
    {
      "cell_type": "code",
      "source": [
        "y"
      ],
      "metadata": {
        "id": "3UyU1OZzgjJT"
      },
      "execution_count": null,
      "outputs": []
    },
    {
      "cell_type": "markdown",
      "source": [
        "<h1> <font color=\"yellow\">\n",
        "No *scaling* needed for decision tree <br>\n",
        "<br>\n",
        "what is scaling? <br> <br>\n",
        "from chatgpt <br> <br>\n",
        "Scaling of a dataset refers to the process of adjusting the range of feature values so that they fall within a specific range. This is often necessary because features in a dataset may have different units and scales, which can negatively affect the performance of machine learning algorithms.\n",
        "\n",
        "</h1>"
      ],
      "metadata": {
        "id": "2IIHWEebeDcJ"
      }
    },
    {
      "cell_type": "markdown",
      "source": [
        "<h1> <font color=\"yellow\">\n",
        "<u> K fold cross validation\n",
        "</h1>"
      ],
      "metadata": {
        "id": "M77jdmm1gteM"
      }
    },
    {
      "cell_type": "markdown",
      "source": [
        "<h1>\n",
        "Reference :\n",
        "https://scikit-learn.org/stable/modules/generated/sklearn.tree.DecisionTreeRegressor.html\n",
        "</h1>\n"
      ],
      "metadata": {
        "id": "KOBKz3oVkV2K"
      }
    },
    {
      "cell_type": "code",
      "source": [
        "#see details from sklearn documentation\n",
        "#decision tree\n",
        "\n",
        "from sklearn.tree import DecisionTreeRegressor\n",
        "\n",
        "DTregressor=DecisionTreeRegressor(criterion='squared_error',  #what does that mean? entropy mesurement for regression\n",
        "                                  max_depth= 10, #max depth of tree(learn tree depth)\n",
        "                                  min_samples_split= 2,\n",
        "                                  min_samples_leaf = 1, #(leaf node's minimum sample)\n",
        "                                  max_features= None,\n",
        "                                  max_leaf_nodes= None,\n",
        "                                  min_impurity_decrease = 0.01 #decrease of impurity after every split\n",
        "                                  )"
      ],
      "metadata": {
        "id": "xgnP5da8eBtD"
      },
      "execution_count": null,
      "outputs": []
    },
    {
      "cell_type": "code",
      "source": [
        "from sklearn.model_selection import cross_val_score\n",
        "from sklearn.model_selection import KFold\n",
        "k_fold = KFold(10) # it is now 10th fold corss validation\n",
        "\n",
        "results1 = cross_val_score(DTregressor, x, y, cv=k_fold , scoring='neg_mean_squared_error')\n",
        "results2 = cross_val_score(DTregressor, x, y, cv=k_fold , scoring= 'neg_mean_absolute_percentage_error')\n",
        "results3 = cross_val_score(DTregressor, x, y, cv=k_fold , scoring= 'r2')\n"
      ],
      "metadata": {
        "id": "9pXfHPpceBvx"
      },
      "execution_count": null,
      "outputs": []
    },
    {
      "cell_type": "markdown",
      "source": [
        "<h1> <font color=\"yellow\">\n",
        "\n",
        "why negative mean squre error ? <br>\n",
        "why not only mean square error?<br>\n",
        "\n",
        "you can check the supported ⁉import sklearn\n",
        "sklearn.metrics.get_scorer_names() <br>\n",
        "\n",
        "difference between them  ?\n",
        "\n",
        "</h1>\n",
        "\n"
      ],
      "metadata": {
        "id": "KbQYjuJtByFL"
      }
    },
    {
      "cell_type": "code",
      "source": [
        "results1  #negative MSE"
      ],
      "metadata": {
        "id": "O85g6EP6eByA"
      },
      "execution_count": null,
      "outputs": []
    },
    {
      "cell_type": "code",
      "source": [
        "results2"
      ],
      "metadata": {
        "id": "BwzhHdQIeB0Z"
      },
      "execution_count": null,
      "outputs": []
    },
    {
      "cell_type": "markdown",
      "source": [
        "Why we used \"cross validation\" ?\n"
      ],
      "metadata": {
        "id": "65wZMLXkDa9k"
      }
    },
    {
      "cell_type": "code",
      "source": [
        "overall_MAE_percentage = sum(results2) / len(results2)\n",
        "print(abs(overall_MAE_percentage)*100)"
      ],
      "metadata": {
        "id": "rBq7j9jPeB2g"
      },
      "execution_count": null,
      "outputs": []
    },
    {
      "cell_type": "code",
      "source": [],
      "metadata": {
        "id": "hFoSgYNq58IQ"
      },
      "execution_count": null,
      "outputs": []
    },
    {
      "cell_type": "code",
      "source": [],
      "metadata": {
        "id": "BEW5X4dH58LB"
      },
      "execution_count": null,
      "outputs": []
    },
    {
      "cell_type": "code",
      "source": [],
      "metadata": {
        "id": "glT7217N58Nc"
      },
      "execution_count": null,
      "outputs": []
    },
    {
      "cell_type": "markdown",
      "source": [],
      "metadata": {
        "id": "PD9ieh6FDyt1"
      }
    }
  ]
}